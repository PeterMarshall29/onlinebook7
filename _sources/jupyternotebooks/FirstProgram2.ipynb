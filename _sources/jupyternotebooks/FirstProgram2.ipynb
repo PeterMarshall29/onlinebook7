{
 "cells": [
  {
   "cell_type": "markdown",
   "id": "d61cd330",
   "metadata": {},
   "source": [
    "# First C++ program.\n",
    "\n",
    "Type the following code into the empty code window below.\n",
    "Please type the code exactly as shown. \n",
    "TIP computers cannot correct your mistakes for you!! \n",
    "% {lineno-start=1 emphasize-lines=\"2,3\"}\n",
    "\n",
    "```{code-block} cpp\n",
    ":linenos: \n",
    ":emphasize-lines: 4\n",
    ":label: CodeC1\n",
    ":caption: Hello World program\n",
    "\n",
    "#include <iostream>\n",
    "int main()\n",
    "{\n",
    "\tstd :: cout << \"Hello, World!\\n\";\n",
    "\treturn 0;\n",
    "}\n",
    "```\n",
    "\n",
    "In {ref}`Code 1<CodeC1>` the highlighted statement is the code that the programmer actually wants implemented - everything else is ...\n",
    "\n",
    ":::{code-block} cpp\n",
    ":linenos: \n",
    ":emphasize-lines: 4\n",
    ":label: CodeC2\n",
    ":caption: Hello World program\n",
    "\n",
    "#include <iostream>\n",
    "int main()\n",
    "{\n",
    "\tstd :: cout << \"Hello, World!\\n\";\n",
    "\treturn 0;\n",
    "}\n",
    ":::\n",
    "\n",
    "````{code} cpp\n",
    ":linenos: \n",
    ":emphasize-lines: 4\n",
    ":label: CodeC3\n",
    ":caption: Hello World program\n",
    "\n",
    "#include <iostream>\n",
    "int main()\n",
    "{\n",
    "\tstd :: cout << \"Hello, World!\\n\";\n",
    "\treturn 0;\n",
    "}\n",
    "````\n",
    "\n",
    "In {ref}`Code 1<CodeC3>` the highlighted statement is the code that the programmer actually wants implemented - everything else is ...\n",
    "\n",
    "\n",
    "```{tip}\n",
    "To run a code block that has been edited, select the block (mouse click inside it), then simulaneously press {kbd}`Shift` + {kbd}`Enter`. \n",
    "```"
   ]
  },
  {
   "cell_type": "code",
   "execution_count": 1,
   "id": "b7d43864",
   "metadata": {
    "tags": [
     "mytag"
    ]
   },
   "outputs": [
    {
     "data": {
      "text/markdown": [
       "Hello, World!\r\n",
       "\r\n"
      ]
     },
     "metadata": {},
     "output_type": "display_data"
    }
   ],
   "source": [
    "#include <iostream>\n",
    "int main()\n",
    "{\n",
    "\tstd :: cout << \"Hello, World!\\n\";\n",
    "\treturn 0;\n",
    "}"
   ]
  },
  {
   "cell_type": "markdown",
   "id": "2013f4fe",
   "metadata": {},
   "source": [
    "::::{exercise} \n",
    ":class: dropdown\n",
    ":label: ExerciseC1\n",
    "Add or remove spaces anywhere in your code and run the code again. \\\n",
    "Or try somthing else\\\n",
    "or something other\n",
    "\n",
    ":::{solution} ExerciseC1 \n",
    ":class: hint dropdown\n",
    ":label: SolutionC1\n",
    "\n",
    "1. answer 1\n",
    "2. answer 2\n",
    "- list q\n",
    "- list b\n",
    ":::\n",
    "::::\n",
    "\n",
    "\n",
    "`````{exercise-start} \n",
    ":class: dropdown\n",
    ":label: ExerciseC2\n",
    "`````\n",
    "This code is incorrect. Alter the code so that it runs without error and prints your name."
   ]
  },
  {
   "cell_type": "code",
   "execution_count": 2,
   "id": "105eef08",
   "metadata": {
    "tags": [
     "remove-output"
    ]
   },
   "outputs": [
    {
     "name": "stderr",
     "output_type": "stream",
     "text": [
      "C:\\Users\\Peter\\AppData\\Local\\Temp\\tmpa1r_we1n.cpp:3:1: error: 'include' does not name a type\n",
      "    3 | include \"iostreams\"\n",
      "      | ^~~~~~~\n"
     ]
    },
    {
     "name": "stderr",
     "output_type": "stream",
     "text": [
      "\n",
      "[C++ kernel] Error: Unable to compile the source code. Return error: 0x1."
     ]
    }
   ],
   "source": [
    "include \"iostreams\"\n",
    "main(){\n",
    "cout << \"my name is, \\n\"\n",
    "return \"Peter\";\n",
    "}"
   ]
  },
  {
   "cell_type": "markdown",
   "id": "284d2006",
   "metadata": {},
   "source": [
    "````{solution} ExerciseC2 \n",
    ":class: hint dropdown\n",
    ":label: SolutionC2\n",
    "```{code} cpp\n",
    "#include <iostream>\n",
    "int main()\n",
    "{\n",
    "\tstd :: cout << \"Hello, World!\\n\";\n",
    "\treturn 0;\n",
    "}\n",
    "```\n",
    "````\n",
    "`````{exercise-end}\n",
    "`````\n",
    "````{admonition} Exercise\n",
    ":class: dropdown tip\n",
    "Add or remove spaces anywhere in your code and run the code again. \\\n",
    "Or try somthing else\\\n",
    "or something other\n",
    "\n",
    "```{admonition} Solutions \n",
    ":class: dropdown hint\n",
    "1. answer 1\n",
    "2. answer 2\n",
    "- list q\n",
    "- list b\n",
    "```\n",
    "````"
   ]
  }
 ],
 "metadata": {
  "jupytext": {
   "formats": "md:myst",
   "text_representation": {
    "extension": ".md",
    "format_name": "myst"
   }
  },
  "kernelspec": {
   "alias": "cpp",
   "display_name": "C++ 20",
   "language": "c++",
   "name": "cpp20"
  },
  "language_info": {
   "file_extension": ".cpp",
   "mimetype": "text/x-c++src",
   "name": "C++",
   "version": "1.0.0a9"
  },
  "source_map": [
   12,
   73,
   81,
   107,
   114
  ]
 },
 "nbformat": 4,
 "nbformat_minor": 5
}