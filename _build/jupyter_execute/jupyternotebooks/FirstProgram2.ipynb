{
 "cells": [
  {
   "cell_type": "markdown",
   "id": "342bee16",
   "metadata": {},
   "source": [
    "# First C++ program.\n",
    "\n",
    "\n",
    "Primordial <wiki:gravitational_waves> are hypothesized to arise from <wiki:cosmic_inflation>, a faster-than-light expansion just after the <wiki:big_bang>.\n",
    "\n",
    "\n",
    "Type the following code into the empty code window below.\n",
    "Please type the code exactly as shown. \n",
    "TIP computers cannot correct your mistakes for you!! \n",
    "% {lineno-start=1 emphasize-lines=\"2,3\"}\n",
    "\n",
    "```{code-block} cpp\n",
    ":linenos: \n",
    ":emphasize-lines: 4\n",
    ":name: CodeC1\n",
    ":caption: Hello World program\n",
    "\n",
    "#include <iostream>\n",
    "int main()\n",
    "{\n",
    "\tstd :: cout << \"Hello, World!\\n\";\n",
    "\treturn 0;\n",
    "}\n",
    "```\n",
    "\n",
    "In {ref}`Code 1<CodeC1>` the highlighted statement is the code that the programmer actually wants implemented - everything else is ..."
   ]
  },
  {
   "cell_type": "code",
   "execution_count": null,
   "id": "fec51f78",
   "metadata": {
    "caption": "Hello World program",
    "emphasize-lines": 4,
    "linenos": null,
    "name": "CodeC2",
    "tags": [
     "skip-execution"
    ]
   },
   "outputs": [],
   "source": [
    "#include <iostream>\n",
    "int main()\n",
    "{\n",
    "\tstd :: cout << \"Hello, World!\\n\";\n",
    "\treturn 0;\n",
    "}"
   ]
  },
  {
   "cell_type": "markdown",
   "id": "bfe594ed",
   "metadata": {},
   "source": [
    "In {ref}`Code 1<CodeC2>` the highlighted statement is the code that the programmer actually wants implemented - everything else is ...\n",
    "\n",
    "\n",
    "```{tip}\n",
    "To run a code block that has been edited, select the block (mouse click inside it), then simulaneously press {kbd}`Shift` + {kbd}`Enter`. \n",
    "```"
   ]
  },
  {
   "cell_type": "code",
   "execution_count": 1,
   "id": "ba2c48b3",
   "metadata": {
    "tags": [
     "mytag"
    ]
   },
   "outputs": [
    {
     "data": {
      "text/markdown": [
       "Hello, World!\r\n",
       "\r\n"
      ]
     },
     "metadata": {},
     "output_type": "display_data"
    }
   ],
   "source": [
    "#include <iostream>\n",
    "int main()\n",
    "{\n",
    "\tstd :: cout << \"Hello, World!\\n\";\n",
    "\treturn 0;\n",
    "}"
   ]
  },
  {
   "cell_type": "markdown",
   "id": "66aff298",
   "metadata": {},
   "source": [
    "::::{exercise} \n",
    ":class: dropdown\n",
    ":label: ExerciseC1\n",
    "Add or remove spaces anywhere in your code and run the code again. \\\n",
    "Or try somthing else\\\n",
    "or something other\n",
    "\n",
    ":::{solution} ExerciseC1 \n",
    ":class: hint dropdown\n",
    ":label: SolutionC1\n",
    "\n",
    "1. answer 1\n",
    "2. answer 2\n",
    "- list q\n",
    "- list b\n",
    ":::\n",
    "::::\n",
    "\n",
    "\n",
    "```{exercise} \n",
    ":label: ExerciseC2\n",
    "This code is incorrect. Alter the code so that it runs without error and prints your name.\n",
    "```"
   ]
  },
  {
   "cell_type": "code",
   "execution_count": 2,
   "id": "d9615441",
   "metadata": {
    "tags": [
     "remove-output"
    ]
   },
   "outputs": [
    {
     "name": "stderr",
     "output_type": "stream",
     "text": [
      "C:\\Users\\Peter\\AppData\\Local\\Temp\\tmp12cdvsl9.cpp:3:1: error: 'include' does not name a type\n",
      "    3 | include \"iostreams\"\n",
      "      | ^~~~~~~\n"
     ]
    },
    {
     "name": "stderr",
     "output_type": "stream",
     "text": [
      "\n",
      "[C++ kernel] Error: Unable to compile the source code. Return error: 0x1."
     ]
    }
   ],
   "source": [
    "include \"iostreams\"\n",
    "main(){\n",
    "cout << \"my name is, \\n\"\n",
    "return \"Peter\";\n",
    "}\n",
    "#include <iostream>\n",
    "int main()\n",
    "{\n",
    "\tstd :: cout << \"Hello, World!\\n\";\n",
    "\treturn 0;\n",
    "}"
   ]
  },
  {
   "cell_type": "markdown",
   "id": "b770aa5c",
   "metadata": {},
   "source": [
    "````{solution} ExerciseC2 \n",
    ":class: hint dropdown\n",
    ":label: SolutionC2\n",
    "```{code} c++\n",
    "#include <iostream>\n",
    "int main()\n",
    "{\n",
    "\tstd :: cout << \"Hello, World!\\n\";\n",
    "\treturn 0;\n",
    "}\n",
    "```\n",
    "````\n",
    "\n",
    "\n",
    "````{exercise} \n",
    ":label: ExerciseC3\n",
    "This code is incorrect. Alter the code so that it runs without error and prints your name.\n",
    "```{code-cell} c++\n",
    ":tags: [remove-output]\n",
    "include \"iostreams\"\n",
    "main(){\n",
    "cout << \"my name is, \\n\"\n",
    "return \"Peter\";\n",
    "}\n",
    "#include <iostream>\n",
    "int main()\n",
    "{\n",
    "\tstd :: cout << \"Hello, World!\\n\";\n",
    "\treturn 0;\n",
    "}\n",
    "```\n",
    "````\n",
    "\n",
    "````{solution} ExerciseC3 \n",
    ":class: hint dropdown\n",
    ":label: SolutionC3\n",
    "\n",
    "```{code} c++\n",
    "#include <iostream>\n",
    "int main()\n",
    "{\n",
    "\tstd :: cout << \"Hello, World!\\n\";\n",
    "\treturn 0;\n",
    "}\n",
    "```\n",
    "````\n",
    "\n",
    "`````{exercise-start}\n",
    ":label: ExerciseC4\n",
    "`````\n",
    "This code is incorrect. Alter the code so that it runs without error and prints your name."
   ]
  },
  {
   "cell_type": "code",
   "execution_count": 3,
   "id": "86ae6382",
   "metadata": {
    "tags": [
     "remove-output"
    ]
   },
   "outputs": [
    {
     "name": "stderr",
     "output_type": "stream",
     "text": [
      "C:\\Users\\Peter\\AppData\\Local\\Temp\\tmpsmw1xhzp.cpp:3:1: error: 'include' does not name a type\n",
      "    3 | include \"iostreams\"\n",
      "      | ^~~~~~~\n"
     ]
    },
    {
     "name": "stderr",
     "output_type": "stream",
     "text": [
      "\n",
      "[C++ kernel] Error: Unable to compile the source code. Return error: 0x1."
     ]
    }
   ],
   "source": [
    "include \"iostreams\"\n",
    "main(){\n",
    "cout << \"my name is, \\n\"\n",
    "return \"Peter\";\n",
    "}\n",
    "#include <iostream>\n",
    "int main()\n",
    "{\n",
    "\tstd :: cout << \"Hello, World!\\n\";\n",
    "\treturn 0;\n",
    "}"
   ]
  },
  {
   "cell_type": "markdown",
   "id": "d51e6395",
   "metadata": {},
   "source": [
    "````{solution} ExerciseC4\n",
    ":class: hint dropdown\n",
    ":label: SolutionC4\n",
    "```{code} cpp\n",
    "#include <iostream>\n",
    "int main()\n",
    "{\n",
    "\tstd :: cout << \"Hello, World!\\n\";\n",
    "\treturn 0;\n",
    "}\n",
    "```\n",
    "````\n",
    "`````{exercise-end}\n",
    "`````\n",
    "\n",
    "\n",
    "````{admonition} Exercise\n",
    ":class: dropdown tip\n",
    "Add or remove spaces anywhere in your code and run the code again. \\\n",
    "Or try somthing else\\\n",
    "or something other\n",
    "```{code-cell} cpp\n",
    ":tags: [remove-output]\n",
    "include \"iostreams\"\n",
    "main(){\n",
    "cout << \"my name is, \\n\"\n",
    "return \"Peter\";\n",
    "}\n",
    "```\n",
    "```{admonition} Solutions \n",
    ":class: dropdown hint\n",
    "1. answer 1\n",
    "2. answer 2\n",
    "- list q\n",
    "- list b\n",
    "```\n",
    "````"
   ]
  }
 ],
 "metadata": {
  "jupytext": {
   "formats": "md:myst",
   "text_representation": {
    "extension": ".md",
    "format_name": "myst"
   }
  },
  "kernelspec": {
   "display_name": "C++ 20",
   "language": "c++",
   "name": "cpp20"
  },
  "language_info": {
   "file_extension": ".cpp",
   "mimetype": "text/x-c++src",
   "name": "C++",
   "version": "1.0.0a9"
  },
  "source_map": [
   11,
   40,
   52,
   63,
   71,
   96,
   109,
   161,
   174
  ]
 },
 "nbformat": 4,
 "nbformat_minor": 5
}